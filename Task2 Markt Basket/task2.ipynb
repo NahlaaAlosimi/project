{
  "nbformat": 4,
  "nbformat_minor": 0,
  "metadata": {
    "colab": {
      "private_outputs": true,
      "provenance": []
    },
    "kernelspec": {
      "name": "python3",
      "display_name": "Python 3"
    },
    "language_info": {
      "name": "python"
    }
  },
  "cells": [
    {
      "cell_type": "code",
      "execution_count": null,
      "metadata": {
        "id": "h5ansgu1pO2c"
      },
      "outputs": [],
      "source": [
        "# Importing essential libraries\n",
        "import numpy as np\n",
        "import pandas as pd\n",
        "import matplotlib.pyplot as plt\n",
        "%matplotlib inline\n",
        "import seaborn as sns # رسم\n",
        "sns.set() # رسم\n",
        "import warnings # اخفا الرسايل الغيرر مهمه\n",
        "warnings.filterwarnings('ignore')"
      ]
    },
    {
      "cell_type": "code",
      "source": [
        "# Loading the datasets into Pandas DataFrames\n",
        "departments = pd.read_csv('departments.csv') #\n",
        "order_products_train = pd.read_csv('/content/order_products__train.csv')\n",
        "order_products_prior = pd.read_csv('/content/order_products__prior.csv')\n",
        "orders = pd.read_csv('orders.csv')\n",
        "products = pd.read_csv('products.csv', on_bad_lines='skip')\n",
        "aisles = pd.read_csv('aisles.csv')"
      ],
      "metadata": {
        "id": "1k20gqclpvje"
      },
      "execution_count": null,
      "outputs": []
    },
    {
      "cell_type": "code",
      "source": [
        "# Displaying the first five rows of the 'departments' DataFrame\n",
        "departments.head() # عرضنا اول خمس صفوف"
      ],
      "metadata": {
        "id": "sfmxdBCNpzj8"
      },
      "execution_count": null,
      "outputs": []
    },
    {
      "cell_type": "code",
      "source": [
        "plt.figure(figsize=(12,6))\n",
        "\n",
        "sns.barplot(x = departments['department'].value_counts()[:10].index,\n",
        "           y = departments['department'].value_counts()[:10].values)\n",
        "plt.xticks(size=12, rotation=45)\n",
        "plt.title('10 Best department')\n",
        "plt.show() # افضل عشر اقسام"
      ],
      "metadata": {
        "id": "-hjccHLBp3m3"
      },
      "execution_count": null,
      "outputs": []
    },
    {
      "cell_type": "code",
      "source": [
        "# Displaying number of rows and col of the 'departments' DataFrame\n",
        "departments.shape"
      ],
      "metadata": {
        "id": "FlVlt7LFp69m"
      },
      "execution_count": null,
      "outputs": []
    },
    {
      "cell_type": "code",
      "source": [
        "# Displaying the first five rows of the 'order_product' DataFrame\n",
        "order_products_train.head()\n",
        "# رقم الطلب \\ رقم المننتج \\ اعادة الطلب"
      ],
      "metadata": {
        "id": "3UMaoGsBp9vi"
      },
      "execution_count": null,
      "outputs": []
    },
    {
      "cell_type": "code",
      "source": [
        "# Displaying the number of col and rows of the 'order_product' DataFrame\n",
        "order_products_train.shape"
      ],
      "metadata": {
        "id": "of5KRLQjqCTg"
      },
      "execution_count": null,
      "outputs": []
    },
    {
      "cell_type": "code",
      "source": [
        "# Displaying the number of cols and row of the 'order_product' DataFrame\n",
        "order_products_prior.head()\n",
        "# هذا الجدول قبل التدريب"
      ],
      "metadata": {
        "id": "o09fnH-jq2B9"
      },
      "execution_count": null,
      "outputs": []
    },
    {
      "cell_type": "code",
      "source": [
        "# count of eval_set\n",
        "orders[\"eval_set\"].value_counts() # نتيجة تحتوي على كل نوع مجموعة تقييم وعدد مرات ظهوره في البيانات\n",
        "#"
      ],
      "metadata": {
        "id": "BZol2xUhq55o"
      },
      "execution_count": null,
      "outputs": []
    },
    {
      "cell_type": "code",
      "source": [
        "products.head()\n",
        "# aisle هو رقم الممر\n",
        "# يعني مثلا رقم الممر في قسم الخضروات"
      ],
      "metadata": {
        "id": "JD-_bOdOq81p"
      },
      "execution_count": null,
      "outputs": []
    },
    {
      "cell_type": "code",
      "source": [
        "# merge data\n",
        "dataset_train = orders[orders['eval_set'] == 'train'].merge(order_products_train , on = 'order_id')\n",
        "dataset_train\n",
        "# دمج الداتا سيت"
      ],
      "metadata": {
        "id": "_HHpi1A4rAAn"
      },
      "execution_count": null,
      "outputs": []
    },
    {
      "cell_type": "code",
      "source": [
        "dataset_train.isnull().sum()/len(dataset_train) * 100\n",
        "# ياخذ القيم المفقودة في كل عامود ويقسمها على عدد الصفوف الكلي\n",
        "# جميعها لا يوجد فيها اصفار الا اخر شي فيها نل"
      ],
      "metadata": {
        "id": "BH0fZumIrD_w"
      },
      "execution_count": null,
      "outputs": []
    },
    {
      "cell_type": "code",
      "source": [
        "dataset_test = orders[orders['eval_set'] == 'test']\n",
        "dataset_test"
      ],
      "metadata": {
        "id": "See1LfRtrHBa"
      },
      "execution_count": null,
      "outputs": []
    },
    {
      "cell_type": "code",
      "source": [
        "# merge the data\n",
        "prior  = orders.merge(order_products_prior , on = 'order_id')\n",
        "prior#سيحتوي على معلومات الطلبات السابقة (prior orders) مع تفاصيل المنتجات المطلوبة في كل طلب"
      ],
      "metadata": {
        "id": "UoeypZRvrK29"
      },
      "execution_count": null,
      "outputs": []
    },
    {
      "cell_type": "code",
      "source": [
        "# miss data\n",
        "prior.isnull().sum()/len(prior) * 100"
      ],
      "metadata": {
        "id": "Y_sld9BwrOUH"
      },
      "execution_count": null,
      "outputs": []
    },
    {
      "cell_type": "code",
      "source": [
        "prior[\"days_since_prior_order\"] = prior[\"days_since_prior_order\"].fillna(prior[\"days_since_prior_order\"].median() ) # يشيل القيم النل ويحط المتوسط الحسابي"
      ],
      "metadata": {
        "id": "auPNVeexrRjG"
      },
      "execution_count": null,
      "outputs": []
    },
    {
      "cell_type": "code",
      "source": [
        "prior[\"no of time buy\"] = prior.groupby(\"user_id\")['product_id'].count()# يسوي مجموعه بنا على البرودكت اي دي واليوزر اي دي"
      ],
      "metadata": {
        "id": "BN99UpN5rVke"
      },
      "execution_count": null,
      "outputs": []
    },
    {
      "cell_type": "code",
      "source": [
        "prior[\"no of\"] = prior.groupby(\"product_id\")['user_id'].count() # يحسب عدد القروب اللي فيه البرودكت واليوزر اي دي"
      ],
      "metadata": {
        "id": "OHNIPW0FrYge"
      },
      "execution_count": null,
      "outputs": []
    },
    {
      "cell_type": "code",
      "source": [
        "prior"
      ],
      "metadata": {
        "id": "vOWDuIvxrcJT"
      },
      "execution_count": null,
      "outputs": []
    },
    {
      "cell_type": "code",
      "source": [
        "dataset_test = dataset_test.drop(['order_id','user_id','eval_set'] , axis = 1) # لانها غير ضروريه"
      ],
      "metadata": {
        "id": "c2rLhhonrfQg"
      },
      "execution_count": null,
      "outputs": []
    },
    {
      "cell_type": "code",
      "source": [
        "# spilt data\n",
        "x = dataset_train.drop(['order_id','user_id','eval_set', 'product_id' , 'add_to_cart_order' , 'reordered' ] , axis = 1)\n",
        "y = dataset_train['reordered']"
      ],
      "metadata": {
        "id": "KgDRDKiFrkPb"
      },
      "execution_count": null,
      "outputs": []
    },
    {
      "cell_type": "code",
      "source": [
        "y.value_counts()/len(y)*100"
      ],
      "metadata": {
        "id": "ajYB-OGWrnxm"
      },
      "execution_count": null,
      "outputs": []
    },
    {
      "cell_type": "code",
      "source": [
        "#loading the library\n",
        "import statsmodels.api as sm\n",
        "from statsmodels.stats.outliers_influence import variance_inflation_factor\n",
        "\n",
        "vif = variance_inflation_factor\n",
        "data = pd.DataFrame({'Feature names' : x.columns , 'vif' : [vif(x.values ,i) for i in range(x.shape[1])]})\n",
        "data"
      ],
      "metadata": {
        "id": "bsL6JKtMrtPe"
      },
      "execution_count": null,
      "outputs": []
    },
    {
      "cell_type": "code",
      "source": [
        "# find outlier\n",
        "def outlier(col):\n",
        "    q1 = dataset_test[col].quantile(0.25)\n",
        "    q3 = dataset_test[col].quantile(0.75)\n",
        "    iqr = q3 - q1\n",
        "\n",
        "    lower = q1-1.5*iqr# اي قيمه اقل من هذا الحد تعتبر شاذه\n",
        "    upper = q1 + 1.5*iqr # اي قيمه اقل من هذا الحد تعتبر شاذه\n",
        "\n",
        "    dataset_test[col] = np.where(dataset_test[col]< lower , lower , np.where(dataset_test[col] > upper , upper , dataset_test[col]))\n",
        "\n",
        "# لتحل محل أي قيمة أقل من الحد الأدنى بقيمة الحد الأدنى نفسه.\n",
        "\n",
        "for col in dataset_test.columns:\n",
        "    outlier(col)\n",
        "    # يمر على جميع الاعمده ويستخدم داله الاوتلير"
      ],
      "metadata": {
        "id": "mKLeLDNBrxHr"
      },
      "execution_count": null,
      "outputs": []
    },
    {
      "cell_type": "code",
      "source": [
        "dataset_test"
      ],
      "metadata": {
        "id": "srt2rk6sr1Pz"
      },
      "execution_count": null,
      "outputs": []
    },
    {
      "cell_type": "code",
      "source": [
        "x_train = x\n",
        "y_train = y\n",
        "x_test = dataset_test"
      ],
      "metadata": {
        "id": "978X19i_r4dO"
      },
      "execution_count": null,
      "outputs": []
    },
    {
      "source": [
        "# model logistic\n",
        "import numpy as np\n",
        "from sklearn.linear_model import LogisticRegression # Import LogisticRegression\n",
        "\n",
        "# Remove rows where y_train is NaN\n",
        "mask = ~np.isnan(y_train)\n",
        "x_train_clean = x_train[mask]\n",
        "y_train_clean = y_train[mask]\n",
        "\n",
        "lr = LogisticRegression()\n",
        "lr.fit(x_train_clean, y_train_clean)"
      ],
      "cell_type": "code",
      "metadata": {
        "id": "MOCK-yE_wHme"
      },
      "execution_count": null,
      "outputs": []
    },
    {
      "source": [
        "# model logistic\n",
        "import numpy as np\n",
        "from sklearn.linear_model import LogisticRegression # Import LogisticRegression\n",
        "from sklearn import metrics # Import the metrics module\n",
        "\n",
        "# Remove rows where y_train is NaN\n",
        "mask = ~np.isnan(y_train)\n",
        "x_train_clean = x_train[mask]\n",
        "y_train_clean = y_train[mask]\n",
        "\n",
        "lr = LogisticRegression()\n",
        "lr.fit(x_train_clean, y_train_clean)\n",
        "\n",
        "# Predict using the cleaned data\n",
        "y_pred_train = lr.predict(x_train_clean)\n",
        "y_pred_test = lr.predict(x_test)\n",
        "\n",
        "# Train accuracy\n",
        "print(\"*\" * 40)\n",
        "print(\"Train accuracy:\", metrics.accuracy_score(y_train_clean, y_pred_train)) # Now metrics is defined\n",
        "print(\"*\" * 40)\n",
        "\n",
        "# Train precision_score\n",
        "print(\"Train precision_score:\", metrics.precision_score(y_train_clean, y_pred_train, average='weighted'))\n",
        "print(\"*\" * 40)\n",
        "\n",
        "# Train recall_score\n",
        "print(\"Train recall_score:\", metrics.recall_score(y_train_clean, y_pred_train, average='weighted'))\n",
        "print(\"*\" * 40)\n",
        "\n",
        "# Train f1_score\n",
        "print(\"Train f1_score:\", metrics.f1_score(y_train_clean, y_pred_train, average='weighted'))\n",
        "print(\"*\" * 40)"
      ],
      "cell_type": "code",
      "metadata": {
        "id": "ZBLb6mSFwYcI"
      },
      "execution_count": null,
      "outputs": []
    },
    {
      "cell_type": "code",
      "source": [
        "from mlxtend.frequent_patterns import apriori, association_rules # داله تستخدم لاستخراج الانماط المتكرره ، لتكتشف العلاقات بين العتاصر  المختلفه"
      ],
      "metadata": {
        "id": "BNxWXn96sYou"
      },
      "execution_count": null,
      "outputs": []
    },
    {
      "cell_type": "code",
      "source": [
        "basket = dataset_test.groupby(['order_number', 'order_dow'])['order_dow'].count().unstack()  .fillna(0)\n",
        " #يسوي جدول\n",
        "basket[basket > 0] = 1 #  يقرب الى باينري ، واحد طلب في هذا اليوم اما صفر لم يطلب"
      ],
      "metadata": {
        "id": "t5HfF3ytscg6"
      },
      "execution_count": null,
      "outputs": []
    },
    {
      "cell_type": "code",
      "source": [
        "frequent_itemsets = apriori(basket, min_support=0.1, use_colnames=True)\n",
        "\n",
        "# Generate association rules from frequent itemsets\n",
        "rules = association_rules(frequent_itemsets, metric='lift', min_threshold=1.0)\n",
        "\n",
        "# Display the resulting association rules\n",
        "print(rules)"
      ],
      "metadata": {
        "id": "9d3DOen4sgo8"
      },
      "execution_count": null,
      "outputs": []
    }
  ]
}